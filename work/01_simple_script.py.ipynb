{
 "cells": [
  {
   "cell_type": "code",
   "execution_count": 8,
   "metadata": {
    "scrolled": true
   },
   "outputs": [
    {
     "name": "stdout",
     "output_type": "stream",
     "text": [
      "Technologies: ['PySpark', 'Python', 'Spark', 'Scala', 'Java', 'Project Jupyter', 'R']\n",
      "\n"
     ]
    }
   ],
   "source": [
    "#!/usr/bin/python3\n",
    "\n",
    "import random\n",
    "\n",
    "technologies = [\n",
    "    'PySpark', 'Python', 'Spark', 'Scala', 'Java', 'Project Jupyter', 'R'\n",
    "]\n",
    "\n",
    "print(\"Technologies: %s\\n\" % technologies)"
   ]
  },
  {
   "cell_type": "code",
   "execution_count": 9,
   "metadata": {
    "scrolled": true
   },
   "outputs": [
    {
     "name": "stdout",
     "output_type": "stream",
     "text": [
      "Sorted: ['Java', 'Project Jupyter', 'PySpark', 'Python', 'R', 'Scala', 'Spark']\n",
      "\n"
     ]
    }
   ],
   "source": [
    "# sort\n",
    "technologies.sort()\n",
    "print(\"Sorted: %s\\n\" % technologies)"
   ]
  },
  {
   "cell_type": "code",
   "execution_count": 10,
   "metadata": {},
   "outputs": [
    {
     "name": "stdout",
     "output_type": "stream",
     "text": [
      "I'm interested in learning about Scala.\n"
     ]
    }
   ],
   "source": [
    "print(\"I'm interested in learning about %s.\" % random.choice(technologies))"
   ]
  },
  {
   "cell_type": "code",
   "execution_count": null,
   "metadata": {},
   "outputs": [],
   "source": []
  }
 ],
 "metadata": {
  "kernelspec": {
   "display_name": "Python 3",
   "language": "python",
   "name": "python3"
  },
  "language_info": {
   "codemirror_mode": {
    "name": "ipython",
    "version": 3
   },
   "file_extension": ".py",
   "mimetype": "text/x-python",
   "name": "python",
   "nbconvert_exporter": "python",
   "pygments_lexer": "ipython3",
   "version": "3.7.6"
  }
 },
 "nbformat": 4,
 "nbformat_minor": 4
}
